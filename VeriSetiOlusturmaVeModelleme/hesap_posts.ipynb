{
 "cells": [
  {
   "cell_type": "code",
   "execution_count": 1,
   "metadata": {},
   "outputs": [],
   "source": [
    "import snscrape.modules.twitter as sntwitter\n",
    "from datetime import datetime\n",
    "import time\n",
    "import random\n",
    "import pandas as pd\n",
    "import nltk\n",
    "from dotenv import load_dotenv\n",
    "import os\n",
    "import re"
   ]
  },
  {
   "cell_type": "code",
   "execution_count": 2,
   "metadata": {},
   "outputs": [],
   "source": [
    "twitter_username = os.getenv(\"TWT_USERNAME\")\n",
    "twitter_password = os.getenv(\"TWT_PASSWORD\")"
   ]
  },
  {
   "cell_type": "code",
   "execution_count": null,
   "metadata": {},
   "outputs": [],
   "source": [
    "twitter_user = sntwitter.TwitterUserScraper(\"RTErdogan\")\n",
    "tweets = []\n",
    "for i, tweet in enumerate(twitter_user.get_items()):\n",
    "    if i == 2000:\n",
    "        break\n",
    "\n",
    "    if i % 5 == 0:\n",
    "        print(\"Getting item:\", i)\n",
    "\n",
    "    tweets.append(tweet)"
   ]
  },
  {
   "cell_type": "code",
   "execution_count": 4,
   "metadata": {},
   "outputs": [
    {
     "data": {
      "text/plain": [
       "snscrape.modules.twitter.Tweet"
      ]
     },
     "execution_count": 4,
     "metadata": {},
     "output_type": "execute_result"
    }
   ],
   "source": [
    "type(tweets[0])"
   ]
  },
  {
   "cell_type": "code",
   "execution_count": 5,
   "metadata": {},
   "outputs": [
    {
     "data": {
      "text/plain": [
       "Tweet(url='https://twitter.com/RTErdogan/status/1610625971756978176', date=datetime.datetime(2023, 1, 4, 13, 15, 30, tzinfo=datetime.timezone.utc), content='Asgari ücret destek miktarını, özellikle küçük işletmelerimizin bu yükün altından daha kolay kalkmalarını temin amacıyla 400 liraya yükseltme kararı aldık. Hayırlı olsun. https://t.co/xtYeRtI0k2', renderedContent='Asgari ücret destek miktarını, özellikle küçük işletmelerimizin bu yükün altından daha kolay kalkmalarını temin amacıyla 400 liraya yükseltme kararı aldık. Hayırlı olsun. https://t.co/xtYeRtI0k2', id=1610625971756978176, user=User(username='RTErdogan', id=68034431, displayname='Recep Tayyip Erdoğan', description='Türkiye Cumhurbaşkanı ve AK Parti Genel Başkanı - President of Türkiye and AK Party Chairman', rawDescription='Türkiye Cumhurbaşkanı ve AK Parti Genel Başkanı - President of Türkiye and AK Party Chairman', descriptionUrls=None, verified=True, created=datetime.datetime(2009, 8, 23, 1, 13, 44, tzinfo=datetime.timezone.utc), followersCount=19634778, friendsCount=104, statusesCount=10835, favouritesCount=103, listedCount=13309, mediaCount=3234, location='Ankara, Türkiye', protected=False, linkUrl='http://t.me/RTErdogan', linkTcourl='https://t.co/5wxa8a5Zek', profileImageUrl='https://pbs.twimg.com/profile_images/1151410974240444416/yVvaD7hU_normal.jpg', profileBannerUrl='https://pbs.twimg.com/profile_banners/68034431/1666959008', label=UserLabel(description='Türkiye devlet görevlisi', url='https://help.twitter.com/rules-and-policies/state-affiliated', badgeUrl='https://pbs.twimg.com/semantic_core_img/1290392753013002240/mWq1iE5L?format=png&name=orig', longDescription=None)), replyCount=392, retweetCount=777, likeCount=1985, quoteCount=8, conversationId=1610625971756978176, lang='tr', source='<a href=\"https://studio.twitter.com\" rel=\"nofollow\">Twitter Media Studio</a>', sourceUrl='https://studio.twitter.com', sourceLabel='Twitter Media Studio', outlinks=None, tcooutlinks=None, media=[Photo(previewUrl='https://pbs.twimg.com/media/FloRDdKaAAE8zw5?format=jpg&name=small', fullUrl='https://pbs.twimg.com/media/FloRDdKaAAE8zw5?format=jpg&name=large')], retweetedTweet=None, quotedTweet=None, inReplyToTweetId=None, inReplyToUser=None, mentionedUsers=None, coordinates=None, place=None, hashtags=None, cashtags=None)"
      ]
     },
     "execution_count": 5,
     "metadata": {},
     "output_type": "execute_result"
    }
   ],
   "source": [
    "tweets[0]"
   ]
  },
  {
   "cell_type": "code",
   "execution_count": 6,
   "metadata": {},
   "outputs": [
    {
     "data": {
      "text/plain": [
       "'Asgari ücret destek miktarını, özellikle küçük işletmelerimizin bu yükün altından daha kolay kalkmalarını temin amacıyla 400 liraya yükseltme kararı aldık. Hayırlı olsun. https://t.co/xtYeRtI0k2'"
      ]
     },
     "execution_count": 6,
     "metadata": {},
     "output_type": "execute_result"
    }
   ],
   "source": [
    "tweets[0].content"
   ]
  },
  {
   "cell_type": "code",
   "execution_count": 7,
   "metadata": {},
   "outputs": [
    {
     "data": {
      "text/plain": [
       "'Sözleşmeliye Kadro Şöleni Programı\\n\\nhttps://t.co/UdFAP5Tyfg'"
      ]
     },
     "execution_count": 7,
     "metadata": {},
     "output_type": "execute_result"
    }
   ],
   "source": [
    "tweets[6].content"
   ]
  },
  {
   "cell_type": "code",
   "execution_count": 8,
   "metadata": {},
   "outputs": [
    {
     "data": {
      "text/html": [
       "<div>\n",
       "<style scoped>\n",
       "    .dataframe tbody tr th:only-of-type {\n",
       "        vertical-align: middle;\n",
       "    }\n",
       "\n",
       "    .dataframe tbody tr th {\n",
       "        vertical-align: top;\n",
       "    }\n",
       "\n",
       "    .dataframe thead th {\n",
       "        text-align: right;\n",
       "    }\n",
       "</style>\n",
       "<table border=\"1\" class=\"dataframe\">\n",
       "  <thead>\n",
       "    <tr style=\"text-align: right;\">\n",
       "      <th></th>\n",
       "      <th>url</th>\n",
       "      <th>date</th>\n",
       "      <th>content</th>\n",
       "      <th>renderedContent</th>\n",
       "      <th>id</th>\n",
       "      <th>user</th>\n",
       "      <th>replyCount</th>\n",
       "      <th>retweetCount</th>\n",
       "      <th>likeCount</th>\n",
       "      <th>quoteCount</th>\n",
       "      <th>...</th>\n",
       "      <th>media</th>\n",
       "      <th>retweetedTweet</th>\n",
       "      <th>quotedTweet</th>\n",
       "      <th>inReplyToTweetId</th>\n",
       "      <th>inReplyToUser</th>\n",
       "      <th>mentionedUsers</th>\n",
       "      <th>coordinates</th>\n",
       "      <th>place</th>\n",
       "      <th>hashtags</th>\n",
       "      <th>cashtags</th>\n",
       "    </tr>\n",
       "  </thead>\n",
       "  <tbody>\n",
       "    <tr>\n",
       "      <th>0</th>\n",
       "      <td>https://twitter.com/RTErdogan/status/161062597...</td>\n",
       "      <td>2023-01-04 13:15:30+00:00</td>\n",
       "      <td>Asgari ücret destek miktarını, özellikle küçük...</td>\n",
       "      <td>Asgari ücret destek miktarını, özellikle küçük...</td>\n",
       "      <td>1610625971756978176</td>\n",
       "      <td>{'username': 'RTErdogan', 'id': 68034431, 'dis...</td>\n",
       "      <td>392</td>\n",
       "      <td>777</td>\n",
       "      <td>1985</td>\n",
       "      <td>8</td>\n",
       "      <td>...</td>\n",
       "      <td>[{'previewUrl': 'https://pbs.twimg.com/media/F...</td>\n",
       "      <td>None</td>\n",
       "      <td>None</td>\n",
       "      <td>NaN</td>\n",
       "      <td>None</td>\n",
       "      <td>None</td>\n",
       "      <td>None</td>\n",
       "      <td>None</td>\n",
       "      <td>None</td>\n",
       "      <td>None</td>\n",
       "    </tr>\n",
       "    <tr>\n",
       "      <th>1</th>\n",
       "      <td>https://twitter.com/RTErdogan/status/161061836...</td>\n",
       "      <td>2023-01-04 12:45:15+00:00</td>\n",
       "      <td>Uygulanan zam oranıyla birlikte en düşük emekl...</td>\n",
       "      <td>Uygulanan zam oranıyla birlikte en düşük emekl...</td>\n",
       "      <td>1610618360068444160</td>\n",
       "      <td>{'username': 'RTErdogan', 'id': 68034431, 'dis...</td>\n",
       "      <td>1196</td>\n",
       "      <td>1930</td>\n",
       "      <td>5388</td>\n",
       "      <td>53</td>\n",
       "      <td>...</td>\n",
       "      <td>[{'previewUrl': 'https://pbs.twimg.com/media/F...</td>\n",
       "      <td>None</td>\n",
       "      <td>None</td>\n",
       "      <td>NaN</td>\n",
       "      <td>None</td>\n",
       "      <td>None</td>\n",
       "      <td>None</td>\n",
       "      <td>None</td>\n",
       "      <td>None</td>\n",
       "      <td>None</td>\n",
       "    </tr>\n",
       "    <tr>\n",
       "      <th>2</th>\n",
       "      <td>https://twitter.com/RTErdogan/status/161060453...</td>\n",
       "      <td>2023-01-04 11:50:19+00:00</td>\n",
       "      <td>Her zaman olduğu gibi @Akparti vizyonu ortaya ...</td>\n",
       "      <td>Her zaman olduğu gibi @Akparti vizyonu ortaya ...</td>\n",
       "      <td>1610604533528264704</td>\n",
       "      <td>{'username': 'RTErdogan', 'id': 68034431, 'dis...</td>\n",
       "      <td>1217</td>\n",
       "      <td>3337</td>\n",
       "      <td>7804</td>\n",
       "      <td>192</td>\n",
       "      <td>...</td>\n",
       "      <td>[{'thumbnailUrl': 'https://pbs.twimg.com/ampli...</td>\n",
       "      <td>None</td>\n",
       "      <td>None</td>\n",
       "      <td>NaN</td>\n",
       "      <td>None</td>\n",
       "      <td>[{'username': 'Akparti', 'id': 1628824092, 'di...</td>\n",
       "      <td>None</td>\n",
       "      <td>None</td>\n",
       "      <td>None</td>\n",
       "      <td>None</td>\n",
       "    </tr>\n",
       "    <tr>\n",
       "      <th>3</th>\n",
       "      <td>https://twitter.com/RTErdogan/status/161058380...</td>\n",
       "      <td>2023-01-04 10:27:56+00:00</td>\n",
       "      <td>Memurlarımızın ve tüm emeklilerimizin 2023’ün ...</td>\n",
       "      <td>Memurlarımızın ve tüm emeklilerimizin 2023’ün ...</td>\n",
       "      <td>1610583801733812224</td>\n",
       "      <td>{'username': 'RTErdogan', 'id': 68034431, 'dis...</td>\n",
       "      <td>4881</td>\n",
       "      <td>7490</td>\n",
       "      <td>23252</td>\n",
       "      <td>663</td>\n",
       "      <td>...</td>\n",
       "      <td>[{'previewUrl': 'https://pbs.twimg.com/media/F...</td>\n",
       "      <td>None</td>\n",
       "      <td>None</td>\n",
       "      <td>NaN</td>\n",
       "      <td>None</td>\n",
       "      <td>None</td>\n",
       "      <td>None</td>\n",
       "      <td>None</td>\n",
       "      <td>None</td>\n",
       "      <td>None</td>\n",
       "    </tr>\n",
       "    <tr>\n",
       "      <th>4</th>\n",
       "      <td>https://twitter.com/RTErdogan/status/161057031...</td>\n",
       "      <td>2023-01-04 09:34:20+00:00</td>\n",
       "      <td>AK Parti TBMM Grup Toplantısı https://t.co/TvT...</td>\n",
       "      <td>AK Parti TBMM Grup Toplantısı twitter.com/i/br...</td>\n",
       "      <td>1610570313309511680</td>\n",
       "      <td>{'username': 'RTErdogan', 'id': 68034431, 'dis...</td>\n",
       "      <td>4765</td>\n",
       "      <td>4123</td>\n",
       "      <td>9406</td>\n",
       "      <td>77</td>\n",
       "      <td>...</td>\n",
       "      <td>None</td>\n",
       "      <td>None</td>\n",
       "      <td>None</td>\n",
       "      <td>NaN</td>\n",
       "      <td>None</td>\n",
       "      <td>None</td>\n",
       "      <td>None</td>\n",
       "      <td>None</td>\n",
       "      <td>None</td>\n",
       "      <td>None</td>\n",
       "    </tr>\n",
       "  </tbody>\n",
       "</table>\n",
       "<p>5 rows × 27 columns</p>\n",
       "</div>"
      ],
      "text/plain": [
       "                                                 url  \\\n",
       "0  https://twitter.com/RTErdogan/status/161062597...   \n",
       "1  https://twitter.com/RTErdogan/status/161061836...   \n",
       "2  https://twitter.com/RTErdogan/status/161060453...   \n",
       "3  https://twitter.com/RTErdogan/status/161058380...   \n",
       "4  https://twitter.com/RTErdogan/status/161057031...   \n",
       "\n",
       "                       date  \\\n",
       "0 2023-01-04 13:15:30+00:00   \n",
       "1 2023-01-04 12:45:15+00:00   \n",
       "2 2023-01-04 11:50:19+00:00   \n",
       "3 2023-01-04 10:27:56+00:00   \n",
       "4 2023-01-04 09:34:20+00:00   \n",
       "\n",
       "                                             content  \\\n",
       "0  Asgari ücret destek miktarını, özellikle küçük...   \n",
       "1  Uygulanan zam oranıyla birlikte en düşük emekl...   \n",
       "2  Her zaman olduğu gibi @Akparti vizyonu ortaya ...   \n",
       "3  Memurlarımızın ve tüm emeklilerimizin 2023’ün ...   \n",
       "4  AK Parti TBMM Grup Toplantısı https://t.co/TvT...   \n",
       "\n",
       "                                     renderedContent                   id  \\\n",
       "0  Asgari ücret destek miktarını, özellikle küçük...  1610625971756978176   \n",
       "1  Uygulanan zam oranıyla birlikte en düşük emekl...  1610618360068444160   \n",
       "2  Her zaman olduğu gibi @Akparti vizyonu ortaya ...  1610604533528264704   \n",
       "3  Memurlarımızın ve tüm emeklilerimizin 2023’ün ...  1610583801733812224   \n",
       "4  AK Parti TBMM Grup Toplantısı twitter.com/i/br...  1610570313309511680   \n",
       "\n",
       "                                                user  replyCount  \\\n",
       "0  {'username': 'RTErdogan', 'id': 68034431, 'dis...         392   \n",
       "1  {'username': 'RTErdogan', 'id': 68034431, 'dis...        1196   \n",
       "2  {'username': 'RTErdogan', 'id': 68034431, 'dis...        1217   \n",
       "3  {'username': 'RTErdogan', 'id': 68034431, 'dis...        4881   \n",
       "4  {'username': 'RTErdogan', 'id': 68034431, 'dis...        4765   \n",
       "\n",
       "   retweetCount  likeCount  quoteCount  ...  \\\n",
       "0           777       1985           8  ...   \n",
       "1          1930       5388          53  ...   \n",
       "2          3337       7804         192  ...   \n",
       "3          7490      23252         663  ...   \n",
       "4          4123       9406          77  ...   \n",
       "\n",
       "                                               media retweetedTweet  \\\n",
       "0  [{'previewUrl': 'https://pbs.twimg.com/media/F...           None   \n",
       "1  [{'previewUrl': 'https://pbs.twimg.com/media/F...           None   \n",
       "2  [{'thumbnailUrl': 'https://pbs.twimg.com/ampli...           None   \n",
       "3  [{'previewUrl': 'https://pbs.twimg.com/media/F...           None   \n",
       "4                                               None           None   \n",
       "\n",
       "  quotedTweet inReplyToTweetId inReplyToUser  \\\n",
       "0        None              NaN          None   \n",
       "1        None              NaN          None   \n",
       "2        None              NaN          None   \n",
       "3        None              NaN          None   \n",
       "4        None              NaN          None   \n",
       "\n",
       "                                      mentionedUsers coordinates place  \\\n",
       "0                                               None        None  None   \n",
       "1                                               None        None  None   \n",
       "2  [{'username': 'Akparti', 'id': 1628824092, 'di...        None  None   \n",
       "3                                               None        None  None   \n",
       "4                                               None        None  None   \n",
       "\n",
       "  hashtags cashtags  \n",
       "0     None     None  \n",
       "1     None     None  \n",
       "2     None     None  \n",
       "3     None     None  \n",
       "4     None     None  \n",
       "\n",
       "[5 rows x 27 columns]"
      ]
     },
     "execution_count": 8,
     "metadata": {},
     "output_type": "execute_result"
    }
   ],
   "source": [
    "df = pd.DataFrame(tweets)\n",
    "df.head()"
   ]
  },
  {
   "cell_type": "code",
   "execution_count": 9,
   "metadata": {},
   "outputs": [],
   "source": [
    "df.to_csv(\"RTErdogan.csv\", index=False)"
   ]
  },
  {
   "cell_type": "code",
   "execution_count": 10,
   "metadata": {},
   "outputs": [
    {
     "data": {
      "text/html": [
       "<div>\n",
       "<style scoped>\n",
       "    .dataframe tbody tr th:only-of-type {\n",
       "        vertical-align: middle;\n",
       "    }\n",
       "\n",
       "    .dataframe tbody tr th {\n",
       "        vertical-align: top;\n",
       "    }\n",
       "\n",
       "    .dataframe thead th {\n",
       "        text-align: right;\n",
       "    }\n",
       "</style>\n",
       "<table border=\"1\" class=\"dataframe\">\n",
       "  <thead>\n",
       "    <tr style=\"text-align: right;\">\n",
       "      <th></th>\n",
       "      <th>url</th>\n",
       "      <th>date</th>\n",
       "      <th>content</th>\n",
       "      <th>renderedContent</th>\n",
       "      <th>id</th>\n",
       "      <th>user</th>\n",
       "      <th>replyCount</th>\n",
       "      <th>retweetCount</th>\n",
       "      <th>likeCount</th>\n",
       "      <th>quoteCount</th>\n",
       "      <th>...</th>\n",
       "      <th>media</th>\n",
       "      <th>retweetedTweet</th>\n",
       "      <th>quotedTweet</th>\n",
       "      <th>inReplyToTweetId</th>\n",
       "      <th>inReplyToUser</th>\n",
       "      <th>mentionedUsers</th>\n",
       "      <th>coordinates</th>\n",
       "      <th>place</th>\n",
       "      <th>hashtags</th>\n",
       "      <th>cashtags</th>\n",
       "    </tr>\n",
       "  </thead>\n",
       "  <tbody>\n",
       "    <tr>\n",
       "      <th>0</th>\n",
       "      <td>https://twitter.com/RTErdogan/status/161062597...</td>\n",
       "      <td>2023-01-04 13:15:30+00:00</td>\n",
       "      <td>Asgari ücret destek miktarını, özellikle küçük...</td>\n",
       "      <td>Asgari ücret destek miktarını, özellikle küçük...</td>\n",
       "      <td>1610625971756978176</td>\n",
       "      <td>{'username': 'RTErdogan', 'id': 68034431, 'dis...</td>\n",
       "      <td>392</td>\n",
       "      <td>777</td>\n",
       "      <td>1985</td>\n",
       "      <td>8</td>\n",
       "      <td>...</td>\n",
       "      <td>[{'previewUrl': 'https://pbs.twimg.com/media/F...</td>\n",
       "      <td>NaN</td>\n",
       "      <td>NaN</td>\n",
       "      <td>NaN</td>\n",
       "      <td>NaN</td>\n",
       "      <td>NaN</td>\n",
       "      <td>NaN</td>\n",
       "      <td>NaN</td>\n",
       "      <td>NaN</td>\n",
       "      <td>NaN</td>\n",
       "    </tr>\n",
       "    <tr>\n",
       "      <th>1</th>\n",
       "      <td>https://twitter.com/RTErdogan/status/161061836...</td>\n",
       "      <td>2023-01-04 12:45:15+00:00</td>\n",
       "      <td>Uygulanan zam oranıyla birlikte en düşük emekl...</td>\n",
       "      <td>Uygulanan zam oranıyla birlikte en düşük emekl...</td>\n",
       "      <td>1610618360068444160</td>\n",
       "      <td>{'username': 'RTErdogan', 'id': 68034431, 'dis...</td>\n",
       "      <td>1196</td>\n",
       "      <td>1930</td>\n",
       "      <td>5388</td>\n",
       "      <td>53</td>\n",
       "      <td>...</td>\n",
       "      <td>[{'previewUrl': 'https://pbs.twimg.com/media/F...</td>\n",
       "      <td>NaN</td>\n",
       "      <td>NaN</td>\n",
       "      <td>NaN</td>\n",
       "      <td>NaN</td>\n",
       "      <td>NaN</td>\n",
       "      <td>NaN</td>\n",
       "      <td>NaN</td>\n",
       "      <td>NaN</td>\n",
       "      <td>NaN</td>\n",
       "    </tr>\n",
       "    <tr>\n",
       "      <th>2</th>\n",
       "      <td>https://twitter.com/RTErdogan/status/161060453...</td>\n",
       "      <td>2023-01-04 11:50:19+00:00</td>\n",
       "      <td>Her zaman olduğu gibi @Akparti vizyonu ortaya ...</td>\n",
       "      <td>Her zaman olduğu gibi @Akparti vizyonu ortaya ...</td>\n",
       "      <td>1610604533528264704</td>\n",
       "      <td>{'username': 'RTErdogan', 'id': 68034431, 'dis...</td>\n",
       "      <td>1217</td>\n",
       "      <td>3337</td>\n",
       "      <td>7804</td>\n",
       "      <td>192</td>\n",
       "      <td>...</td>\n",
       "      <td>[{'thumbnailUrl': 'https://pbs.twimg.com/ampli...</td>\n",
       "      <td>NaN</td>\n",
       "      <td>NaN</td>\n",
       "      <td>NaN</td>\n",
       "      <td>NaN</td>\n",
       "      <td>[{'username': 'Akparti', 'id': 1628824092, 'di...</td>\n",
       "      <td>NaN</td>\n",
       "      <td>NaN</td>\n",
       "      <td>NaN</td>\n",
       "      <td>NaN</td>\n",
       "    </tr>\n",
       "    <tr>\n",
       "      <th>3</th>\n",
       "      <td>https://twitter.com/RTErdogan/status/161058380...</td>\n",
       "      <td>2023-01-04 10:27:56+00:00</td>\n",
       "      <td>Memurlarımızın ve tüm emeklilerimizin 2023’ün ...</td>\n",
       "      <td>Memurlarımızın ve tüm emeklilerimizin 2023’ün ...</td>\n",
       "      <td>1610583801733812224</td>\n",
       "      <td>{'username': 'RTErdogan', 'id': 68034431, 'dis...</td>\n",
       "      <td>4881</td>\n",
       "      <td>7490</td>\n",
       "      <td>23252</td>\n",
       "      <td>663</td>\n",
       "      <td>...</td>\n",
       "      <td>[{'previewUrl': 'https://pbs.twimg.com/media/F...</td>\n",
       "      <td>NaN</td>\n",
       "      <td>NaN</td>\n",
       "      <td>NaN</td>\n",
       "      <td>NaN</td>\n",
       "      <td>NaN</td>\n",
       "      <td>NaN</td>\n",
       "      <td>NaN</td>\n",
       "      <td>NaN</td>\n",
       "      <td>NaN</td>\n",
       "    </tr>\n",
       "    <tr>\n",
       "      <th>4</th>\n",
       "      <td>https://twitter.com/RTErdogan/status/161057031...</td>\n",
       "      <td>2023-01-04 09:34:20+00:00</td>\n",
       "      <td>AK Parti TBMM Grup Toplantısı https://t.co/TvT...</td>\n",
       "      <td>AK Parti TBMM Grup Toplantısı twitter.com/i/br...</td>\n",
       "      <td>1610570313309511680</td>\n",
       "      <td>{'username': 'RTErdogan', 'id': 68034431, 'dis...</td>\n",
       "      <td>4765</td>\n",
       "      <td>4123</td>\n",
       "      <td>9406</td>\n",
       "      <td>77</td>\n",
       "      <td>...</td>\n",
       "      <td>NaN</td>\n",
       "      <td>NaN</td>\n",
       "      <td>NaN</td>\n",
       "      <td>NaN</td>\n",
       "      <td>NaN</td>\n",
       "      <td>NaN</td>\n",
       "      <td>NaN</td>\n",
       "      <td>NaN</td>\n",
       "      <td>NaN</td>\n",
       "      <td>NaN</td>\n",
       "    </tr>\n",
       "  </tbody>\n",
       "</table>\n",
       "<p>5 rows × 27 columns</p>\n",
       "</div>"
      ],
      "text/plain": [
       "                                                 url  \\\n",
       "0  https://twitter.com/RTErdogan/status/161062597...   \n",
       "1  https://twitter.com/RTErdogan/status/161061836...   \n",
       "2  https://twitter.com/RTErdogan/status/161060453...   \n",
       "3  https://twitter.com/RTErdogan/status/161058380...   \n",
       "4  https://twitter.com/RTErdogan/status/161057031...   \n",
       "\n",
       "                        date  \\\n",
       "0  2023-01-04 13:15:30+00:00   \n",
       "1  2023-01-04 12:45:15+00:00   \n",
       "2  2023-01-04 11:50:19+00:00   \n",
       "3  2023-01-04 10:27:56+00:00   \n",
       "4  2023-01-04 09:34:20+00:00   \n",
       "\n",
       "                                             content  \\\n",
       "0  Asgari ücret destek miktarını, özellikle küçük...   \n",
       "1  Uygulanan zam oranıyla birlikte en düşük emekl...   \n",
       "2  Her zaman olduğu gibi @Akparti vizyonu ortaya ...   \n",
       "3  Memurlarımızın ve tüm emeklilerimizin 2023’ün ...   \n",
       "4  AK Parti TBMM Grup Toplantısı https://t.co/TvT...   \n",
       "\n",
       "                                     renderedContent                   id  \\\n",
       "0  Asgari ücret destek miktarını, özellikle küçük...  1610625971756978176   \n",
       "1  Uygulanan zam oranıyla birlikte en düşük emekl...  1610618360068444160   \n",
       "2  Her zaman olduğu gibi @Akparti vizyonu ortaya ...  1610604533528264704   \n",
       "3  Memurlarımızın ve tüm emeklilerimizin 2023’ün ...  1610583801733812224   \n",
       "4  AK Parti TBMM Grup Toplantısı twitter.com/i/br...  1610570313309511680   \n",
       "\n",
       "                                                user  replyCount  \\\n",
       "0  {'username': 'RTErdogan', 'id': 68034431, 'dis...         392   \n",
       "1  {'username': 'RTErdogan', 'id': 68034431, 'dis...        1196   \n",
       "2  {'username': 'RTErdogan', 'id': 68034431, 'dis...        1217   \n",
       "3  {'username': 'RTErdogan', 'id': 68034431, 'dis...        4881   \n",
       "4  {'username': 'RTErdogan', 'id': 68034431, 'dis...        4765   \n",
       "\n",
       "   retweetCount  likeCount  quoteCount  ...  \\\n",
       "0           777       1985           8  ...   \n",
       "1          1930       5388          53  ...   \n",
       "2          3337       7804         192  ...   \n",
       "3          7490      23252         663  ...   \n",
       "4          4123       9406          77  ...   \n",
       "\n",
       "                                               media retweetedTweet  \\\n",
       "0  [{'previewUrl': 'https://pbs.twimg.com/media/F...            NaN   \n",
       "1  [{'previewUrl': 'https://pbs.twimg.com/media/F...            NaN   \n",
       "2  [{'thumbnailUrl': 'https://pbs.twimg.com/ampli...            NaN   \n",
       "3  [{'previewUrl': 'https://pbs.twimg.com/media/F...            NaN   \n",
       "4                                                NaN            NaN   \n",
       "\n",
       "  quotedTweet inReplyToTweetId inReplyToUser  \\\n",
       "0         NaN              NaN           NaN   \n",
       "1         NaN              NaN           NaN   \n",
       "2         NaN              NaN           NaN   \n",
       "3         NaN              NaN           NaN   \n",
       "4         NaN              NaN           NaN   \n",
       "\n",
       "                                      mentionedUsers coordinates place  \\\n",
       "0                                                NaN         NaN   NaN   \n",
       "1                                                NaN         NaN   NaN   \n",
       "2  [{'username': 'Akparti', 'id': 1628824092, 'di...         NaN   NaN   \n",
       "3                                                NaN         NaN   NaN   \n",
       "4                                                NaN         NaN   NaN   \n",
       "\n",
       "   hashtags cashtags  \n",
       "0       NaN      NaN  \n",
       "1       NaN      NaN  \n",
       "2       NaN      NaN  \n",
       "3       NaN      NaN  \n",
       "4       NaN      NaN  \n",
       "\n",
       "[5 rows x 27 columns]"
      ]
     },
     "execution_count": 10,
     "metadata": {},
     "output_type": "execute_result"
    }
   ],
   "source": [
    "df_loaded = pd.read_csv(\"RTErdogan.csv\")\n",
    "df_loaded.head()"
   ]
  },
  {
   "cell_type": "code",
   "execution_count": 11,
   "metadata": {},
   "outputs": [],
   "source": [
    "comments_df = df[['content']]\n",
    "comments_df.to_csv('RTE_contents.csv',index=False)"
   ]
  },
  {
   "cell_type": "code",
   "execution_count": 12,
   "metadata": {},
   "outputs": [],
   "source": [
    "import string"
   ]
  },
  {
   "cell_type": "code",
   "execution_count": 13,
   "metadata": {},
   "outputs": [
    {
     "name": "stdout",
     "output_type": "stream",
     "text": [
      "['aldık', 'allahtan', 'and', 'are', 'as', 'be', 'bey', 'bin', 'binden', 'bir', 'birlikte', 'bu', 'canlı', 'da', 'daha', 'de', 'desteği', 'devam', 'diliyorum', 'edeceğiz', 'ediyorum', 'ediyoruz', 'en', 'ettik', 'for', 'ftar', 'gerçekleştirdik', 'hanım', 'have', 'hayırlı', 'her', 'ile', 'ilk', 'imza', 'in', 'is', 'için', 'karşı', 'milyar', 'of', 'olan', 'olarak', 'olsun', 'olun', 'on', 'or', 'our', 'sağ', 'sağladık', 'sonrası', 'tamamladık', 'that', 'the', 'to', 'tüm', 've', 'we', 'will', 'yol', 'yâd', 'yâr', 'yüz', 'yıl', 'yılda', 'yılı', 'çok', 'şahsım']\n"
     ]
    }
   ],
   "source": [
    "stop_words = sorted([\"ile\",\"ve\",\"imza\",\"bir\",\"bu\",\"daha\",\"için\",\"bey\",\"sağ\",\"olun\",\"the\",\"and\",\"to\",\"of\",\"we\"\n",
    ",\"in\",\"or\",\"de\",\"tüm\",\"da\",\"her\",\"en\",\"çok\",\"aldık\",\"olsun\",\"ediyorum\",\"bin\",\"ettik\",\"canlı\",\"diliyorum\",\"allahtan\",\"yâr\",\"yâd\",\"ilk\",\n",
    "\"ftar\",\"yol\",\"yıl\",\"tamamladık\",\"edeceğiz\",\"desteği\",\"olarak\",\"devam\",\"olan\",\"karşı\",\"ediyoruz\",\"our\",\"will\",\"as\",\"that\",\"on\",\"is\",\"are\",\n",
    "\"for\",\"have\",\"be\",\"yılı\",\"yüz\",\"şahsım\",\"hanım\",\"milyar\",\"birlikte\",\"yılda\",\"hayırlı\",\"gerçekleştirdik\",\"binden\",\"sağladık\",\n",
    "\"sonrası\"])\n",
    "print(stop_words)"
   ]
  },
  {
   "cell_type": "code",
   "execution_count": 14,
   "metadata": {},
   "outputs": [],
   "source": [
    "def clean_text(text):\n",
    "    text = text.lower()\n",
    "    text = re.sub(\"https?://\\S+\", \"\", text)\n",
    "    text = text.replace(\"\\\\n\", \" \")\n",
    "    text = re.sub(\"[0-9]+\", \"\", text)\n",
    "    text = text.translate(str.maketrans(\"\", \"\", string.punctuation))\n",
    "    text = re.sub(\"’|“|”|‘|–|—\", \"\", text)\n",
    "    text = re.sub(\" 🇹🇷\", \"\", text)\n",
    "    text = [t for t in text.split() if t not in stop_words]\n",
    "    return \" \".join(text)"
   ]
  },
  {
   "cell_type": "code",
   "execution_count": 15,
   "metadata": {},
   "outputs": [
    {
     "data": {
      "text/plain": [
       "'uygulanan zam oranıyla düşük emekli maaşı tutarını liradan liraya çıkarıyoruz emeklilerimize'"
      ]
     },
     "execution_count": 15,
     "metadata": {},
     "output_type": "execute_result"
    }
   ],
   "source": [
    "clean_text(comments_df[\"content\"][1])"
   ]
  },
  {
   "cell_type": "code",
   "execution_count": 16,
   "metadata": {},
   "outputs": [
    {
     "name": "stderr",
     "output_type": "stream",
     "text": [
      "<ipython-input-16-4ea486deaad4>:1: SettingWithCopyWarning: \n",
      "A value is trying to be set on a copy of a slice from a DataFrame.\n",
      "Try using .loc[row_indexer,col_indexer] = value instead\n",
      "\n",
      "See the caveats in the documentation: https://pandas.pydata.org/pandas-docs/stable/user_guide/indexing.html#returning-a-view-versus-a-copy\n",
      "  comments_df[\"clean\"] = comments_df.apply(lambda row: clean_text(row[\"content\"]), axis=1)\n"
     ]
    }
   ],
   "source": [
    "\n",
    "comments_df[\"clean\"] = comments_df.apply(lambda row: clean_text(row[\"content\"]), axis=1)"
   ]
  },
  {
   "cell_type": "code",
   "execution_count": 17,
   "metadata": {},
   "outputs": [
    {
     "data": {
      "text/plain": [
       "0    asgari ücret destek miktarını özellikle küçük ...\n",
       "1    uygulanan zam oranıyla düşük emekli maaşı tuta...\n",
       "2    zaman olduğu gibi akparti vizyonu ortaya koyar...\n",
       "3    memurlarımızın emeklilerimizin ün yarısını kap...\n",
       "4                        ak parti tbmm grup toplantısı\n",
       "Name: clean, dtype: object"
      ]
     },
     "execution_count": 17,
     "metadata": {},
     "output_type": "execute_result"
    }
   ],
   "source": [
    "comments_df[\"clean\"][:5]\n"
   ]
  },
  {
   "cell_type": "code",
   "execution_count": 18,
   "metadata": {},
   "outputs": [],
   "source": [
    "cleaned_df = comments_df[['clean']]\n",
    "cleaned_df.to_csv('RTE_contents_cleaned.csv',index=False)"
   ]
  },
  {
   "cell_type": "code",
   "execution_count": 19,
   "metadata": {},
   "outputs": [
    {
     "data": {
      "text/html": [
       "<div>\n",
       "<style scoped>\n",
       "    .dataframe tbody tr th:only-of-type {\n",
       "        vertical-align: middle;\n",
       "    }\n",
       "\n",
       "    .dataframe tbody tr th {\n",
       "        vertical-align: top;\n",
       "    }\n",
       "\n",
       "    .dataframe thead th {\n",
       "        text-align: right;\n",
       "    }\n",
       "</style>\n",
       "<table border=\"1\" class=\"dataframe\">\n",
       "  <thead>\n",
       "    <tr style=\"text-align: right;\">\n",
       "      <th></th>\n",
       "      <th>clean</th>\n",
       "    </tr>\n",
       "  </thead>\n",
       "  <tbody>\n",
       "    <tr>\n",
       "      <th>0</th>\n",
       "      <td>asgari ücret destek miktarını özellikle küçük ...</td>\n",
       "    </tr>\n",
       "    <tr>\n",
       "      <th>1</th>\n",
       "      <td>uygulanan zam oranıyla düşük emekli maaşı tuta...</td>\n",
       "    </tr>\n",
       "    <tr>\n",
       "      <th>2</th>\n",
       "      <td>zaman olduğu gibi akparti vizyonu ortaya koyar...</td>\n",
       "    </tr>\n",
       "    <tr>\n",
       "      <th>3</th>\n",
       "      <td>memurlarımızın emeklilerimizin ün yarısını kap...</td>\n",
       "    </tr>\n",
       "    <tr>\n",
       "      <th>4</th>\n",
       "      <td>ak parti tbmm grup toplantısı</td>\n",
       "    </tr>\n",
       "  </tbody>\n",
       "</table>\n",
       "</div>"
      ],
      "text/plain": [
       "                                               clean\n",
       "0  asgari ücret destek miktarını özellikle küçük ...\n",
       "1  uygulanan zam oranıyla düşük emekli maaşı tuta...\n",
       "2  zaman olduğu gibi akparti vizyonu ortaya koyar...\n",
       "3  memurlarımızın emeklilerimizin ün yarısını kap...\n",
       "4                      ak parti tbmm grup toplantısı"
      ]
     },
     "execution_count": 19,
     "metadata": {},
     "output_type": "execute_result"
    }
   ],
   "source": [
    "cleaned_df.head()"
   ]
  },
  {
   "cell_type": "code",
   "execution_count": 20,
   "metadata": {},
   "outputs": [
    {
     "name": "stdout",
     "output_type": "stream",
     "text": [
      "(ak, parti)            43\n",
      "(basın, toplantısı)    41\n",
      "(olmak, üzere)         40\n",
      "(bugüne, kadar)        38\n",
      "(türkiye, yüzyılı)     37\n",
      "dtype: int64\n"
     ]
    }
   ],
   "source": [
    "df = pd.read_csv('RTE_contents_cleaned.csv')\n",
    "\n",
    "df.dropna(subset=['clean'], inplace=True)\n",
    "\n",
    "df['tokens'] = df['clean'].apply(nltk.word_tokenize)\n",
    "\n",
    "df['bigrams'] = df['tokens'].apply(lambda x: list(nltk.bigrams(x)))\n",
    "\n",
    "bigram_freq = pd.Series([bigram for bigrams in df['bigrams'] for bigram in bigrams]).value_counts()\n",
    "\n",
    "print(bigram_freq.head(5))"
   ]
  },
  {
   "cell_type": "code",
   "execution_count": 21,
   "metadata": {},
   "outputs": [],
   "source": [
    "import matplotlib.pyplot as plt\n",
    "\n",
    "from sklearn.feature_extraction.text import TfidfVectorizer\n",
    "from sklearn.decomposition import NMF\n",
    "from sklearn.decomposition import LatentDirichletAllocation\n"
   ]
  },
  {
   "cell_type": "code",
   "execution_count": 22,
   "metadata": {},
   "outputs": [],
   "source": [
    "vectorizer = TfidfVectorizer(max_df=0.95, min_df=2)\n",
    "X = vectorizer.fit_transform(df[\"clean\"])"
   ]
  },
  {
   "cell_type": "code",
   "execution_count": 23,
   "metadata": {},
   "outputs": [],
   "source": [
    "# https://www.jmlr.org/papers/volume3/blei03a/blei03a.pdf\n",
    "lda = LatentDirichletAllocation(n_components=8, random_state=42)"
   ]
  },
  {
   "cell_type": "code",
   "execution_count": 24,
   "metadata": {},
   "outputs": [
    {
     "data": {
      "text/plain": [
       "LatentDirichletAllocation(n_components=8, random_state=42)"
      ]
     },
     "execution_count": 24,
     "metadata": {},
     "output_type": "execute_result"
    }
   ],
   "source": [
    "# 1 - 2 dk\n",
    "lda.fit(X)"
   ]
  },
  {
   "cell_type": "code",
   "execution_count": 25,
   "metadata": {},
   "outputs": [],
   "source": [
    "def plot_top_words(model, feature_names, n_top_words=10, title=\"clean\"):\n",
    "    fig, axes = plt.subplots(2, 4, figsize=(30, 15), sharex=True)\n",
    "    axes = axes.flatten()\n",
    "    for topic_idx, topic in enumerate(model.components_):\n",
    "        top_features_ind = topic.argsort()[: -n_top_words - 1: -1]\n",
    "        top_features = [feature_names[i] for i in top_features_ind]\n",
    "        weights = topic[top_features_ind]\n",
    "\n",
    "        ax = axes[topic_idx]\n",
    "        ax.barh(top_features, weights, height=0.7)\n",
    "        ax.set_title(f\"Topic {topic_idx +1}\", fontdict={\"fontsize\": 30})\n",
    "        ax.invert_yaxis()\n",
    "        ax.tick_params(axis=\"both\", which=\"major\", labelsize=20)\n",
    "        for i in \"top right left\".split():\n",
    "            ax.spines[i].set_visible(False)\n",
    "        fig.suptitle(title, fontsize=40)\n",
    "\n",
    "    plt.subplots_adjust(top=0.90, bottom=0.05, wspace=0.90, hspace=0.3)\n",
    "    plt.show()\n"
   ]
  },
  {
   "cell_type": "code",
   "execution_count": 26,
   "metadata": {},
   "outputs": [],
   "source": [
    "feature_names = vectorizer.get_feature_names()"
   ]
  },
  {
   "cell_type": "code",
   "execution_count": 27,
   "metadata": {},
   "outputs": [
    {
     "data": {
      "text/plain": [
       "['ab',\n",
       " 'abana',\n",
       " 'abbas',\n",
       " 'abbasa',\n",
       " 'abdullah',\n",
       " 'abdülhamid',\n",
       " 'abdülmecid',\n",
       " 'abnin',\n",
       " 'abu',\n",
       " 'accordance',\n",
       " 'acil',\n",
       " 'act',\n",
       " 'acıları',\n",
       " 'ad',\n",
       " 'adaların']"
      ]
     },
     "execution_count": 27,
     "metadata": {},
     "output_type": "execute_result"
    }
   ],
   "source": [
    "feature_names[:15]"
   ]
  },
  {
   "cell_type": "code",
   "execution_count": 28,
   "metadata": {},
   "outputs": [
    {
     "data": {
      "image/png": "[encoded data removed]",
      "text/plain": [
       "<Figure size 2160x1080 with 8 Axes>"
      ]
     },
     "metadata": {
      "needs_background": "light"
     },
     "output_type": "display_data"
    }
   ],
   "source": [
    "plot_top_words(lda, feature_names, title=\"LDA\")"
   ]
  }
 ],
 "metadata": {
  "kernelspec": {
   "display_name": "base",
   "language": "python",
   "name": "python3"
  },
  "language_info": {
   "codemirror_mode": {
    "name": "ipython",
    "version": 3
   },
   "file_extension": ".py",
   "mimetype": "text/x-python",
   "name": "python",
   "nbconvert_exporter": "python",
   "pygments_lexer": "ipython3",
   "version": "3.8.8 (default, Apr 13 2021, 15:08:03) [MSC v.1916 64 bit (AMD64)]"
  },
  "orig_nbformat": 4,
  "vscode": {
   "interpreter": {
    "hash": "ad2bdc8ecc057115af97d19610ffacc2b4e99fae6737bb82f5d7fb13d2f2c186"
   }
  }
 },
 "nbformat": 4,
 "nbformat_minor": 2
}
